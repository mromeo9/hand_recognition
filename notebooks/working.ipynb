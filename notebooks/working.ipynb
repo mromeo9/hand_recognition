{
 "cells": [
  {
   "cell_type": "code",
   "execution_count": 2,
   "metadata": {},
   "outputs": [
    {
     "data": {
      "text/plain": [
       "'\\n\\n\\n'"
      ]
     },
     "execution_count": 2,
     "metadata": {},
     "output_type": "execute_result"
    }
   ],
   "source": [
    "\"\"\"\n",
    "1. Create a way to access the camera and show the hand\n",
    "2. Using media pipe show the hands and the landmarks given \n",
    "3. \n",
    "\n",
    "\"\"\""
   ]
  },
  {
   "cell_type": "code",
   "execution_count": 3,
   "metadata": {},
   "outputs": [],
   "source": [
    "import cv2 as cv"
   ]
  },
  {
   "cell_type": "code",
   "execution_count": 9,
   "metadata": {},
   "outputs": [],
   "source": [
    "cap = cv.VideoCapture(1)"
   ]
  },
  {
   "cell_type": "code",
   "execution_count": 10,
   "metadata": {},
   "outputs": [],
   "source": [
    "ret, frame = cap.read()"
   ]
  },
  {
   "cell_type": "code",
   "execution_count": 11,
   "metadata": {},
   "outputs": [
    {
     "name": "stdout",
     "output_type": "stream",
     "text": [
      "True\n"
     ]
    }
   ],
   "source": [
    "print(ret)"
   ]
  },
  {
   "cell_type": "code",
   "execution_count": 12,
   "metadata": {},
   "outputs": [
    {
     "name": "stdout",
     "output_type": "stream",
     "text": [
      "[[[ 67  80  85]\n",
      "  [ 68  82  87]\n",
      "  [ 70  86  89]\n",
      "  ...\n",
      "  [ 70  94 100]\n",
      "  [ 73  96 102]\n",
      "  [ 80 102 108]]\n",
      "\n",
      " [[ 64  79  85]\n",
      "  [ 71  86  92]\n",
      "  [ 71  87  93]\n",
      "  ...\n",
      "  [ 73  96 102]\n",
      "  [ 76  97 104]\n",
      "  [ 81 101 108]]\n",
      "\n",
      " [[ 65  82  91]\n",
      "  [ 74  91 101]\n",
      "  [ 73  90 100]\n",
      "  ...\n",
      "  [ 77  97 104]\n",
      "  [ 79  98 105]\n",
      "  [ 81  99 106]]\n",
      "\n",
      " ...\n",
      "\n",
      " [[116 143 138]\n",
      "  [112 139 135]\n",
      "  [109 137 135]\n",
      "  ...\n",
      "  [155 196 192]\n",
      "  [155 196 192]\n",
      "  [155 196 192]]\n",
      "\n",
      " [[112 137 133]\n",
      "  [115 141 137]\n",
      "  [113 139 138]\n",
      "  ...\n",
      "  [157 195 192]\n",
      "  [157 195 193]\n",
      "  [156 194 192]]\n",
      "\n",
      " [[107 132 128]\n",
      "  [117 142 138]\n",
      "  [116 141 140]\n",
      "  ...\n",
      "  [158 194 192]\n",
      "  [156 192 190]\n",
      "  [155 191 189]]]\n"
     ]
    }
   ],
   "source": [
    "print(frame)"
   ]
  },
  {
   "cell_type": "code",
   "execution_count": 14,
   "metadata": {},
   "outputs": [],
   "source": [
    "cv.imshow('img',frame)\n",
    "cv.waitKey(0)\n",
    "cv.destroyAllWindows()"
   ]
  },
  {
   "cell_type": "code",
   "execution_count": 8,
   "metadata": {},
   "outputs": [],
   "source": [
    "cap.release()"
   ]
  },
  {
   "cell_type": "code",
   "execution_count": 15,
   "metadata": {},
   "outputs": [],
   "source": [
    "cap = cv.VideoCapture(1)\n",
    "while cap.isOpened():\n",
    "    ret, frame = cap.read()\n",
    "    cv.imshow('webcam', frame)\n",
    "\n",
    "    if cv.waitKey(1) & 0xFF == ord('q'):\n",
    "        break\n",
    "\n",
    "cap.release()\n",
    "cv.destroyAllWindows() "
   ]
  }
 ],
 "metadata": {
  "kernelspec": {
   "display_name": "Python 3",
   "language": "python",
   "name": "python3"
  },
  "language_info": {
   "codemirror_mode": {
    "name": "ipython",
    "version": 3
   },
   "file_extension": ".py",
   "mimetype": "text/x-python",
   "name": "python",
   "nbconvert_exporter": "python",
   "pygments_lexer": "ipython3",
   "version": "3.12.4"
  }
 },
 "nbformat": 4,
 "nbformat_minor": 2
}

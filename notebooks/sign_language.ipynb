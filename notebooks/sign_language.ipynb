{
 "cells": [
  {
   "cell_type": "code",
   "execution_count": 1,
   "metadata": {},
   "outputs": [],
   "source": [
    "import tensorflow as tf\n",
    "from tensorflow.keras.models import Sequential\n",
    "from tensorflow.keras.layers import Conv2D, MaxPooling2D, Flatten, Dense\n",
    "\n",
    "import pandas as pd\n",
    "import numpy as np\n",
    "\n",
    "from sklearn.model_selection import train_test_split"
   ]
  },
  {
   "cell_type": "code",
   "execution_count": 2,
   "metadata": {},
   "outputs": [
    {
     "name": "stdout",
     "output_type": "stream",
     "text": [
      "2.17.0\n"
     ]
    }
   ],
   "source": [
    "print(tf.version.VERSION)"
   ]
  },
  {
   "cell_type": "markdown",
   "metadata": {},
   "source": [
    "Import the data"
   ]
  },
  {
   "cell_type": "code",
   "execution_count": 3,
   "metadata": {},
   "outputs": [
    {
     "data": {
      "text/html": [
       "<div>\n",
       "<style scoped>\n",
       "    .dataframe tbody tr th:only-of-type {\n",
       "        vertical-align: middle;\n",
       "    }\n",
       "\n",
       "    .dataframe tbody tr th {\n",
       "        vertical-align: top;\n",
       "    }\n",
       "\n",
       "    .dataframe thead th {\n",
       "        text-align: right;\n",
       "    }\n",
       "</style>\n",
       "<table border=\"1\" class=\"dataframe\">\n",
       "  <thead>\n",
       "    <tr style=\"text-align: right;\">\n",
       "      <th></th>\n",
       "      <th>1</th>\n",
       "      <th>0.0</th>\n",
       "      <th>0.0.1</th>\n",
       "      <th>-0.0609375</th>\n",
       "      <th>-0.029166666666666667</th>\n",
       "      <th>-0.1125</th>\n",
       "      <th>-0.10416666666666667</th>\n",
       "      <th>-0.1453125</th>\n",
       "      <th>-0.175</th>\n",
       "      <th>-0.1703125</th>\n",
       "      <th>...</th>\n",
       "      <th>-0.0015625</th>\n",
       "      <th>-0.13541666666666666.1</th>\n",
       "      <th>0.0453125</th>\n",
       "      <th>-0.16875</th>\n",
       "      <th>0.0328125</th>\n",
       "      <th>-0.21666666666666667</th>\n",
       "      <th>0.028125</th>\n",
       "      <th>-0.16041666666666668</th>\n",
       "      <th>0.0328125.1</th>\n",
       "      <th>-0.14166666666666666</th>\n",
       "    </tr>\n",
       "  </thead>\n",
       "  <tbody>\n",
       "    <tr>\n",
       "      <th>0</th>\n",
       "      <td>1</td>\n",
       "      <td>0.0</td>\n",
       "      <td>0.0</td>\n",
       "      <td>-0.059375</td>\n",
       "      <td>-0.031250</td>\n",
       "      <td>-0.106250</td>\n",
       "      <td>-0.108333</td>\n",
       "      <td>-0.137500</td>\n",
       "      <td>-0.177083</td>\n",
       "      <td>-0.164062</td>\n",
       "      <td>...</td>\n",
       "      <td>0.004687</td>\n",
       "      <td>-0.139583</td>\n",
       "      <td>0.051562</td>\n",
       "      <td>-0.170833</td>\n",
       "      <td>0.037500</td>\n",
       "      <td>-0.216667</td>\n",
       "      <td>0.032813</td>\n",
       "      <td>-0.164583</td>\n",
       "      <td>0.039062</td>\n",
       "      <td>-0.145833</td>\n",
       "    </tr>\n",
       "    <tr>\n",
       "      <th>1</th>\n",
       "      <td>1</td>\n",
       "      <td>0.0</td>\n",
       "      <td>0.0</td>\n",
       "      <td>-0.060937</td>\n",
       "      <td>-0.029167</td>\n",
       "      <td>-0.110937</td>\n",
       "      <td>-0.108333</td>\n",
       "      <td>-0.143750</td>\n",
       "      <td>-0.181250</td>\n",
       "      <td>-0.170313</td>\n",
       "      <td>...</td>\n",
       "      <td>0.000000</td>\n",
       "      <td>-0.141667</td>\n",
       "      <td>0.046875</td>\n",
       "      <td>-0.175000</td>\n",
       "      <td>0.034375</td>\n",
       "      <td>-0.218750</td>\n",
       "      <td>0.029687</td>\n",
       "      <td>-0.164583</td>\n",
       "      <td>0.035937</td>\n",
       "      <td>-0.150000</td>\n",
       "    </tr>\n",
       "    <tr>\n",
       "      <th>2</th>\n",
       "      <td>1</td>\n",
       "      <td>0.0</td>\n",
       "      <td>0.0</td>\n",
       "      <td>-0.060937</td>\n",
       "      <td>-0.031250</td>\n",
       "      <td>-0.109375</td>\n",
       "      <td>-0.110417</td>\n",
       "      <td>-0.140625</td>\n",
       "      <td>-0.177083</td>\n",
       "      <td>-0.167187</td>\n",
       "      <td>...</td>\n",
       "      <td>0.003125</td>\n",
       "      <td>-0.141667</td>\n",
       "      <td>0.050000</td>\n",
       "      <td>-0.168750</td>\n",
       "      <td>0.037500</td>\n",
       "      <td>-0.216667</td>\n",
       "      <td>0.032813</td>\n",
       "      <td>-0.164583</td>\n",
       "      <td>0.037500</td>\n",
       "      <td>-0.147917</td>\n",
       "    </tr>\n",
       "    <tr>\n",
       "      <th>3</th>\n",
       "      <td>1</td>\n",
       "      <td>0.0</td>\n",
       "      <td>0.0</td>\n",
       "      <td>-0.060937</td>\n",
       "      <td>-0.031250</td>\n",
       "      <td>-0.109375</td>\n",
       "      <td>-0.110417</td>\n",
       "      <td>-0.140625</td>\n",
       "      <td>-0.177083</td>\n",
       "      <td>-0.167187</td>\n",
       "      <td>...</td>\n",
       "      <td>0.003125</td>\n",
       "      <td>-0.141667</td>\n",
       "      <td>0.050000</td>\n",
       "      <td>-0.168750</td>\n",
       "      <td>0.037500</td>\n",
       "      <td>-0.216667</td>\n",
       "      <td>0.032813</td>\n",
       "      <td>-0.164583</td>\n",
       "      <td>0.037500</td>\n",
       "      <td>-0.147917</td>\n",
       "    </tr>\n",
       "    <tr>\n",
       "      <th>4</th>\n",
       "      <td>1</td>\n",
       "      <td>0.0</td>\n",
       "      <td>0.0</td>\n",
       "      <td>-0.059375</td>\n",
       "      <td>-0.029167</td>\n",
       "      <td>-0.109375</td>\n",
       "      <td>-0.108333</td>\n",
       "      <td>-0.140625</td>\n",
       "      <td>-0.179167</td>\n",
       "      <td>-0.167187</td>\n",
       "      <td>...</td>\n",
       "      <td>0.000000</td>\n",
       "      <td>-0.137500</td>\n",
       "      <td>0.048438</td>\n",
       "      <td>-0.170833</td>\n",
       "      <td>0.035937</td>\n",
       "      <td>-0.216667</td>\n",
       "      <td>0.029687</td>\n",
       "      <td>-0.162500</td>\n",
       "      <td>0.035937</td>\n",
       "      <td>-0.143750</td>\n",
       "    </tr>\n",
       "  </tbody>\n",
       "</table>\n",
       "<p>5 rows × 43 columns</p>\n",
       "</div>"
      ],
      "text/plain": [
       "   1  0.0  0.0.1  -0.0609375  -0.029166666666666667   -0.1125  \\\n",
       "0  1  0.0    0.0   -0.059375              -0.031250 -0.106250   \n",
       "1  1  0.0    0.0   -0.060937              -0.029167 -0.110937   \n",
       "2  1  0.0    0.0   -0.060937              -0.031250 -0.109375   \n",
       "3  1  0.0    0.0   -0.060937              -0.031250 -0.109375   \n",
       "4  1  0.0    0.0   -0.059375              -0.029167 -0.109375   \n",
       "\n",
       "   -0.10416666666666667  -0.1453125    -0.175  -0.1703125  ...  -0.0015625  \\\n",
       "0             -0.108333   -0.137500 -0.177083   -0.164062  ...    0.004687   \n",
       "1             -0.108333   -0.143750 -0.181250   -0.170313  ...    0.000000   \n",
       "2             -0.110417   -0.140625 -0.177083   -0.167187  ...    0.003125   \n",
       "3             -0.110417   -0.140625 -0.177083   -0.167187  ...    0.003125   \n",
       "4             -0.108333   -0.140625 -0.179167   -0.167187  ...    0.000000   \n",
       "\n",
       "   -0.13541666666666666.1  0.0453125  -0.16875  0.0328125  \\\n",
       "0               -0.139583   0.051562 -0.170833   0.037500   \n",
       "1               -0.141667   0.046875 -0.175000   0.034375   \n",
       "2               -0.141667   0.050000 -0.168750   0.037500   \n",
       "3               -0.141667   0.050000 -0.168750   0.037500   \n",
       "4               -0.137500   0.048438 -0.170833   0.035937   \n",
       "\n",
       "   -0.21666666666666667  0.028125  -0.16041666666666668  0.0328125.1  \\\n",
       "0             -0.216667  0.032813             -0.164583     0.039062   \n",
       "1             -0.218750  0.029687             -0.164583     0.035937   \n",
       "2             -0.216667  0.032813             -0.164583     0.037500   \n",
       "3             -0.216667  0.032813             -0.164583     0.037500   \n",
       "4             -0.216667  0.029687             -0.162500     0.035937   \n",
       "\n",
       "   -0.14166666666666666  \n",
       "0             -0.145833  \n",
       "1             -0.150000  \n",
       "2             -0.147917  \n",
       "3             -0.147917  \n",
       "4             -0.143750  \n",
       "\n",
       "[5 rows x 43 columns]"
      ]
     },
     "execution_count": 3,
     "metadata": {},
     "output_type": "execute_result"
    }
   ],
   "source": [
    "data_path = './data.csv'\n",
    "df = pd.read_csv(data_path)\n",
    "\n",
    "\n",
    "df.head()"
   ]
  },
  {
   "cell_type": "code",
   "execution_count": 4,
   "metadata": {},
   "outputs": [
    {
     "name": "stdout",
     "output_type": "stream",
     "text": [
      "<class 'numpy.float64'>\n",
      "[ 0.          0.         -0.0609375  -0.03125    -0.109375   -0.10833333\n",
      " -0.140625   -0.17916667 -0.1671875  -0.22291667 -0.075      -0.17916667\n",
      " -0.096875   -0.22916667 -0.0828125  -0.1625     -0.06875    -0.1375\n",
      " -0.0359375  -0.18541667 -0.0546875  -0.2375     -0.04375    -0.15625\n",
      " -0.0328125  -0.13958333  0.00625    -0.18333333 -0.0078125  -0.24583333\n",
      " -0.0046875  -0.16458333  0.003125   -0.14166667  0.0484375  -0.17083333\n",
      "  0.0375     -0.22083333  0.0328125  -0.16875     0.0375     -0.14791667]\n"
     ]
    }
   ],
   "source": [
    "print(type(df.iloc[0,1]))\n",
    "X = np.array(df.iloc[:,1:].values)\n",
    "Y = np.array(df.iloc[:,0].values)\n",
    "print(X[10])\n",
    "\n",
    "\n"
   ]
  },
  {
   "cell_type": "code",
   "execution_count": 5,
   "metadata": {},
   "outputs": [],
   "source": [
    "for i in range(len(Y)):\n",
    "    if Y[i] <10:\n",
    "        Y[i] = Y[i] - 1\n",
    "    else: Y[i] = Y[i] -2"
   ]
  },
  {
   "cell_type": "code",
   "execution_count": 6,
   "metadata": {},
   "outputs": [
    {
     "name": "stdout",
     "output_type": "stream",
     "text": [
      "[ 0  0  0 ... 24 24 24]\n"
     ]
    }
   ],
   "source": [
    "print(Y)"
   ]
  },
  {
   "cell_type": "code",
   "execution_count": 7,
   "metadata": {},
   "outputs": [],
   "source": [
    "x_train, x_test, y_train, y_test = train_test_split(X,Y, test_size=0.2, random_state=9)"
   ]
  },
  {
   "cell_type": "code",
   "execution_count": 8,
   "metadata": {},
   "outputs": [
    {
     "name": "stdout",
     "output_type": "stream",
     "text": [
      "[ 0.          0.         -0.084375   -0.06041667 -0.140625   -0.17708333\n",
      " -0.1671875  -0.27291667 -0.1875     -0.34583333 -0.0890625  -0.29375\n",
      " -0.11875    -0.35416667 -0.115625   -0.25833333 -0.1        -0.20208333\n",
      " -0.034375   -0.29583333 -0.0671875  -0.33958333 -0.0640625  -0.225\n",
      " -0.0484375  -0.18333333  0.021875   -0.28125    -0.00625    -0.32083333\n",
      " -0.009375   -0.21041667  0.003125   -0.15833333  0.078125   -0.26041667\n",
      "  0.078125   -0.37916667  0.06875    -0.44583333  0.0625     -0.51458333]\n",
      "[ 8 18 22 ... 10  1  1]\n"
     ]
    }
   ],
   "source": [
    "print(x_train[0])\n",
    "print(y_train)"
   ]
  },
  {
   "cell_type": "code",
   "execution_count": 9,
   "metadata": {},
   "outputs": [],
   "source": [
    "_, features = x_train.shape"
   ]
  },
  {
   "cell_type": "code",
   "execution_count": 18,
   "metadata": {},
   "outputs": [
    {
     "name": "stdout",
     "output_type": "stream",
     "text": [
      "0\n",
      "42\n"
     ]
    }
   ],
   "source": [
    "labels = ('A', 'B', 'C', 'D', 'E', 'F', 'G', 'H', 'I', 'K', 'L', 'M', 'N', 'O', 'P', 'Q', 'R', 'S', 'T', 'U'\n",
    "          'V', 'W', 'X', 'Y', 'Z')\n",
    "\n",
    "output_size = 25\n",
    "\n",
    "print(np.min(y_train))\n",
    "print(features)"
   ]
  },
  {
   "cell_type": "code",
   "execution_count": 11,
   "metadata": {},
   "outputs": [
    {
     "name": "stderr",
     "output_type": "stream",
     "text": [
      "c:\\Users\\romeo\\OneDrive\\Documents\\2024\\Personal\\hand_recognition\\venv\\Lib\\site-packages\\keras\\src\\layers\\core\\dense.py:87: UserWarning: Do not pass an `input_shape`/`input_dim` argument to a layer. When using Sequential models, prefer using an `Input(shape)` object as the first layer in the model instead.\n",
      "  super().__init__(activity_regularizer=activity_regularizer, **kwargs)\n"
     ]
    }
   ],
   "source": [
    "model = Sequential()\n",
    "\n",
    "model.add(Dense(256, activation='relu',input_shape=(features,)))\n",
    "model.add(Dense(256, activation='relu'))\n",
    "model.add(Dense(128,activation='relu'))\n",
    "model.add(Dense(128, activation='relu'))\n",
    "model.add(Dense(output_size))\n"
   ]
  },
  {
   "cell_type": "code",
   "execution_count": 12,
   "metadata": {},
   "outputs": [],
   "source": [
    "from tensorflow.keras.losses import SparseCategoricalCrossentropy\n",
    "optimizer = tf.keras.optimizers.Adam(learning_rate=0.001)\n",
    "\n",
    "model.compile(optimizer=optimizer, \n",
    "              loss = SparseCategoricalCrossentropy(from_logits=True), \n",
    "              metrics=['accuracy'])"
   ]
  },
  {
   "cell_type": "code",
   "execution_count": 13,
   "metadata": {},
   "outputs": [
    {
     "name": "stdout",
     "output_type": "stream",
     "text": [
      "False\n"
     ]
    }
   ],
   "source": [
    "print(np.any(np.isnan(y_test)))\n"
   ]
  },
  {
   "cell_type": "code",
   "execution_count": 14,
   "metadata": {},
   "outputs": [
    {
     "data": {
      "text/html": [
       "<pre style=\"white-space:pre;overflow-x:auto;line-height:normal;font-family:Menlo,'DejaVu Sans Mono',consolas,'Courier New',monospace\"><span style=\"font-weight: bold\">Model: \"sequential\"</span>\n",
       "</pre>\n"
      ],
      "text/plain": [
       "\u001b[1mModel: \"sequential\"\u001b[0m\n"
      ]
     },
     "metadata": {},
     "output_type": "display_data"
    },
    {
     "data": {
      "text/html": [
       "<pre style=\"white-space:pre;overflow-x:auto;line-height:normal;font-family:Menlo,'DejaVu Sans Mono',consolas,'Courier New',monospace\">┏━━━━━━━━━━━━━━━━━━━━━━━━━━━━━━━━━┳━━━━━━━━━━━━━━━━━━━━━━━━┳━━━━━━━━━━━━━━━┓\n",
       "┃<span style=\"font-weight: bold\"> Layer (type)                    </span>┃<span style=\"font-weight: bold\"> Output Shape           </span>┃<span style=\"font-weight: bold\">       Param # </span>┃\n",
       "┡━━━━━━━━━━━━━━━━━━━━━━━━━━━━━━━━━╇━━━━━━━━━━━━━━━━━━━━━━━━╇━━━━━━━━━━━━━━━┩\n",
       "│ dense (<span style=\"color: #0087ff; text-decoration-color: #0087ff\">Dense</span>)                   │ (<span style=\"color: #00d7ff; text-decoration-color: #00d7ff\">None</span>, <span style=\"color: #00af00; text-decoration-color: #00af00\">256</span>)            │        <span style=\"color: #00af00; text-decoration-color: #00af00\">11,008</span> │\n",
       "├─────────────────────────────────┼────────────────────────┼───────────────┤\n",
       "│ dense_1 (<span style=\"color: #0087ff; text-decoration-color: #0087ff\">Dense</span>)                 │ (<span style=\"color: #00d7ff; text-decoration-color: #00d7ff\">None</span>, <span style=\"color: #00af00; text-decoration-color: #00af00\">256</span>)            │        <span style=\"color: #00af00; text-decoration-color: #00af00\">65,792</span> │\n",
       "├─────────────────────────────────┼────────────────────────┼───────────────┤\n",
       "│ dense_2 (<span style=\"color: #0087ff; text-decoration-color: #0087ff\">Dense</span>)                 │ (<span style=\"color: #00d7ff; text-decoration-color: #00d7ff\">None</span>, <span style=\"color: #00af00; text-decoration-color: #00af00\">128</span>)            │        <span style=\"color: #00af00; text-decoration-color: #00af00\">32,896</span> │\n",
       "├─────────────────────────────────┼────────────────────────┼───────────────┤\n",
       "│ dense_3 (<span style=\"color: #0087ff; text-decoration-color: #0087ff\">Dense</span>)                 │ (<span style=\"color: #00d7ff; text-decoration-color: #00d7ff\">None</span>, <span style=\"color: #00af00; text-decoration-color: #00af00\">128</span>)            │        <span style=\"color: #00af00; text-decoration-color: #00af00\">16,512</span> │\n",
       "├─────────────────────────────────┼────────────────────────┼───────────────┤\n",
       "│ dense_4 (<span style=\"color: #0087ff; text-decoration-color: #0087ff\">Dense</span>)                 │ (<span style=\"color: #00d7ff; text-decoration-color: #00d7ff\">None</span>, <span style=\"color: #00af00; text-decoration-color: #00af00\">25</span>)             │         <span style=\"color: #00af00; text-decoration-color: #00af00\">3,225</span> │\n",
       "└─────────────────────────────────┴────────────────────────┴───────────────┘\n",
       "</pre>\n"
      ],
      "text/plain": [
       "┏━━━━━━━━━━━━━━━━━━━━━━━━━━━━━━━━━┳━━━━━━━━━━━━━━━━━━━━━━━━┳━━━━━━━━━━━━━━━┓\n",
       "┃\u001b[1m \u001b[0m\u001b[1mLayer (type)                   \u001b[0m\u001b[1m \u001b[0m┃\u001b[1m \u001b[0m\u001b[1mOutput Shape          \u001b[0m\u001b[1m \u001b[0m┃\u001b[1m \u001b[0m\u001b[1m      Param #\u001b[0m\u001b[1m \u001b[0m┃\n",
       "┡━━━━━━━━━━━━━━━━━━━━━━━━━━━━━━━━━╇━━━━━━━━━━━━━━━━━━━━━━━━╇━━━━━━━━━━━━━━━┩\n",
       "│ dense (\u001b[38;5;33mDense\u001b[0m)                   │ (\u001b[38;5;45mNone\u001b[0m, \u001b[38;5;34m256\u001b[0m)            │        \u001b[38;5;34m11,008\u001b[0m │\n",
       "├─────────────────────────────────┼────────────────────────┼───────────────┤\n",
       "│ dense_1 (\u001b[38;5;33mDense\u001b[0m)                 │ (\u001b[38;5;45mNone\u001b[0m, \u001b[38;5;34m256\u001b[0m)            │        \u001b[38;5;34m65,792\u001b[0m │\n",
       "├─────────────────────────────────┼────────────────────────┼───────────────┤\n",
       "│ dense_2 (\u001b[38;5;33mDense\u001b[0m)                 │ (\u001b[38;5;45mNone\u001b[0m, \u001b[38;5;34m128\u001b[0m)            │        \u001b[38;5;34m32,896\u001b[0m │\n",
       "├─────────────────────────────────┼────────────────────────┼───────────────┤\n",
       "│ dense_3 (\u001b[38;5;33mDense\u001b[0m)                 │ (\u001b[38;5;45mNone\u001b[0m, \u001b[38;5;34m128\u001b[0m)            │        \u001b[38;5;34m16,512\u001b[0m │\n",
       "├─────────────────────────────────┼────────────────────────┼───────────────┤\n",
       "│ dense_4 (\u001b[38;5;33mDense\u001b[0m)                 │ (\u001b[38;5;45mNone\u001b[0m, \u001b[38;5;34m25\u001b[0m)             │         \u001b[38;5;34m3,225\u001b[0m │\n",
       "└─────────────────────────────────┴────────────────────────┴───────────────┘\n"
      ]
     },
     "metadata": {},
     "output_type": "display_data"
    },
    {
     "data": {
      "text/html": [
       "<pre style=\"white-space:pre;overflow-x:auto;line-height:normal;font-family:Menlo,'DejaVu Sans Mono',consolas,'Courier New',monospace\"><span style=\"font-weight: bold\"> Total params: </span><span style=\"color: #00af00; text-decoration-color: #00af00\">129,433</span> (505.60 KB)\n",
       "</pre>\n"
      ],
      "text/plain": [
       "\u001b[1m Total params: \u001b[0m\u001b[38;5;34m129,433\u001b[0m (505.60 KB)\n"
      ]
     },
     "metadata": {},
     "output_type": "display_data"
    },
    {
     "data": {
      "text/html": [
       "<pre style=\"white-space:pre;overflow-x:auto;line-height:normal;font-family:Menlo,'DejaVu Sans Mono',consolas,'Courier New',monospace\"><span style=\"font-weight: bold\"> Trainable params: </span><span style=\"color: #00af00; text-decoration-color: #00af00\">129,433</span> (505.60 KB)\n",
       "</pre>\n"
      ],
      "text/plain": [
       "\u001b[1m Trainable params: \u001b[0m\u001b[38;5;34m129,433\u001b[0m (505.60 KB)\n"
      ]
     },
     "metadata": {},
     "output_type": "display_data"
    },
    {
     "data": {
      "text/html": [
       "<pre style=\"white-space:pre;overflow-x:auto;line-height:normal;font-family:Menlo,'DejaVu Sans Mono',consolas,'Courier New',monospace\"><span style=\"font-weight: bold\"> Non-trainable params: </span><span style=\"color: #00af00; text-decoration-color: #00af00\">0</span> (0.00 B)\n",
       "</pre>\n"
      ],
      "text/plain": [
       "\u001b[1m Non-trainable params: \u001b[0m\u001b[38;5;34m0\u001b[0m (0.00 B)\n"
      ]
     },
     "metadata": {},
     "output_type": "display_data"
    }
   ],
   "source": [
    "model.summary()"
   ]
  },
  {
   "cell_type": "code",
   "execution_count": 15,
   "metadata": {},
   "outputs": [
    {
     "name": "stdout",
     "output_type": "stream",
     "text": [
      "Epoch 1/20\n",
      "\u001b[1m220/220\u001b[0m \u001b[32m━━━━━━━━━━━━━━━━━━━━\u001b[0m\u001b[37m\u001b[0m \u001b[1m1s\u001b[0m 2ms/step - accuracy: 0.3642 - loss: 2.2148 - val_accuracy: 0.7175 - val_loss: 0.7814\n",
      "Epoch 2/20\n",
      "\u001b[1m220/220\u001b[0m \u001b[32m━━━━━━━━━━━━━━━━━━━━\u001b[0m\u001b[37m\u001b[0m \u001b[1m0s\u001b[0m 1ms/step - accuracy: 0.7560 - loss: 0.6338 - val_accuracy: 0.8337 - val_loss: 0.4169\n",
      "Epoch 3/20\n",
      "\u001b[1m220/220\u001b[0m \u001b[32m━━━━━━━━━━━━━━━━━━━━\u001b[0m\u001b[37m\u001b[0m \u001b[1m0s\u001b[0m 1ms/step - accuracy: 0.8342 - loss: 0.4063 - val_accuracy: 0.8918 - val_loss: 0.2843\n",
      "Epoch 4/20\n",
      "\u001b[1m220/220\u001b[0m \u001b[32m━━━━━━━━━━━━━━━━━━━━\u001b[0m\u001b[37m\u001b[0m \u001b[1m0s\u001b[0m 1ms/step - accuracy: 0.8832 - loss: 0.2834 - val_accuracy: 0.8929 - val_loss: 0.2820\n",
      "Epoch 5/20\n",
      "\u001b[1m220/220\u001b[0m \u001b[32m━━━━━━━━━━━━━━━━━━━━\u001b[0m\u001b[37m\u001b[0m \u001b[1m0s\u001b[0m 1ms/step - accuracy: 0.9007 - loss: 0.2676 - val_accuracy: 0.8975 - val_loss: 0.2430\n",
      "Epoch 6/20\n",
      "\u001b[1m220/220\u001b[0m \u001b[32m━━━━━━━━━━━━━━━━━━━━\u001b[0m\u001b[37m\u001b[0m \u001b[1m0s\u001b[0m 1ms/step - accuracy: 0.9215 - loss: 0.2029 - val_accuracy: 0.8838 - val_loss: 0.3095\n",
      "Epoch 7/20\n",
      "\u001b[1m220/220\u001b[0m \u001b[32m━━━━━━━━━━━━━━━━━━━━\u001b[0m\u001b[37m\u001b[0m \u001b[1m0s\u001b[0m 1ms/step - accuracy: 0.9182 - loss: 0.2062 - val_accuracy: 0.9134 - val_loss: 0.2127\n",
      "Epoch 8/20\n",
      "\u001b[1m220/220\u001b[0m \u001b[32m━━━━━━━━━━━━━━━━━━━━\u001b[0m\u001b[37m\u001b[0m \u001b[1m0s\u001b[0m 1ms/step - accuracy: 0.9312 - loss: 0.2025 - val_accuracy: 0.9761 - val_loss: 0.0903\n",
      "Epoch 9/20\n",
      "\u001b[1m220/220\u001b[0m \u001b[32m━━━━━━━━━━━━━━━━━━━━\u001b[0m\u001b[37m\u001b[0m \u001b[1m0s\u001b[0m 1ms/step - accuracy: 0.9587 - loss: 0.1141 - val_accuracy: 0.9077 - val_loss: 0.2769\n",
      "Epoch 10/20\n",
      "\u001b[1m220/220\u001b[0m \u001b[32m━━━━━━━━━━━━━━━━━━━━\u001b[0m\u001b[37m\u001b[0m \u001b[1m0s\u001b[0m 1ms/step - accuracy: 0.9439 - loss: 0.1556 - val_accuracy: 0.9613 - val_loss: 0.1046\n",
      "Epoch 11/20\n",
      "\u001b[1m220/220\u001b[0m \u001b[32m━━━━━━━━━━━━━━━━━━━━\u001b[0m\u001b[37m\u001b[0m \u001b[1m0s\u001b[0m 1ms/step - accuracy: 0.9681 - loss: 0.0826 - val_accuracy: 0.9396 - val_loss: 0.1835\n",
      "Epoch 12/20\n",
      "\u001b[1m220/220\u001b[0m \u001b[32m━━━━━━━━━━━━━━━━━━━━\u001b[0m\u001b[37m\u001b[0m \u001b[1m0s\u001b[0m 1ms/step - accuracy: 0.9396 - loss: 0.1676 - val_accuracy: 0.9818 - val_loss: 0.0654\n",
      "Epoch 13/20\n",
      "\u001b[1m220/220\u001b[0m \u001b[32m━━━━━━━━━━━━━━━━━━━━\u001b[0m\u001b[37m\u001b[0m \u001b[1m0s\u001b[0m 2ms/step - accuracy: 0.9702 - loss: 0.0998 - val_accuracy: 0.9784 - val_loss: 0.0749\n",
      "Epoch 14/20\n",
      "\u001b[1m220/220\u001b[0m \u001b[32m━━━━━━━━━━━━━━━━━━━━\u001b[0m\u001b[37m\u001b[0m \u001b[1m0s\u001b[0m 1ms/step - accuracy: 0.9741 - loss: 0.0731 - val_accuracy: 0.9852 - val_loss: 0.0543\n",
      "Epoch 15/20\n",
      "\u001b[1m220/220\u001b[0m \u001b[32m━━━━━━━━━━━━━━━━━━━━\u001b[0m\u001b[37m\u001b[0m \u001b[1m0s\u001b[0m 1ms/step - accuracy: 0.9820 - loss: 0.0520 - val_accuracy: 0.9727 - val_loss: 0.0903\n",
      "Epoch 16/20\n",
      "\u001b[1m220/220\u001b[0m \u001b[32m━━━━━━━━━━━━━━━━━━━━\u001b[0m\u001b[37m\u001b[0m \u001b[1m0s\u001b[0m 1ms/step - accuracy: 0.9845 - loss: 0.0499 - val_accuracy: 0.9886 - val_loss: 0.0464\n",
      "Epoch 17/20\n",
      "\u001b[1m220/220\u001b[0m \u001b[32m━━━━━━━━━━━━━━━━━━━━\u001b[0m\u001b[37m\u001b[0m \u001b[1m0s\u001b[0m 2ms/step - accuracy: 0.9900 - loss: 0.0376 - val_accuracy: 0.9829 - val_loss: 0.0691\n",
      "Epoch 18/20\n",
      "\u001b[1m220/220\u001b[0m \u001b[32m━━━━━━━━━━━━━━━━━━━━\u001b[0m\u001b[37m\u001b[0m \u001b[1m0s\u001b[0m 1ms/step - accuracy: 0.9721 - loss: 0.0722 - val_accuracy: 0.9829 - val_loss: 0.0651\n",
      "Epoch 19/20\n",
      "\u001b[1m220/220\u001b[0m \u001b[32m━━━━━━━━━━━━━━━━━━━━\u001b[0m\u001b[37m\u001b[0m \u001b[1m0s\u001b[0m 1ms/step - accuracy: 0.9776 - loss: 0.0639 - val_accuracy: 0.9487 - val_loss: 0.2455\n",
      "Epoch 20/20\n",
      "\u001b[1m220/220\u001b[0m \u001b[32m━━━━━━━━━━━━━━━━━━━━\u001b[0m\u001b[37m\u001b[0m \u001b[1m0s\u001b[0m 1ms/step - accuracy: 0.9682 - loss: 0.0984 - val_accuracy: 0.9875 - val_loss: 0.0475\n"
     ]
    }
   ],
   "source": [
    "training_data = model.fit(x_train,y_train,epochs=20,batch_size=16,shuffle=True, validation_data=(x_test,y_test))"
   ]
  },
  {
   "cell_type": "code",
   "execution_count": 17,
   "metadata": {},
   "outputs": [],
   "source": [
    "model.save('sign_language_model.keras')"
   ]
  },
  {
   "cell_type": "code",
   "execution_count": 6,
   "metadata": {},
   "outputs": [],
   "source": [
    "model = tf.keras.models.load_model('sign_l')"
   ]
  },
  {
   "cell_type": "code",
   "execution_count": 7,
   "metadata": {},
   "outputs": [],
   "source": [
    "model.save_weights('weights.h5')"
   ]
  },
  {
   "cell_type": "code",
   "execution_count": 5,
   "metadata": {},
   "outputs": [],
   "source": [
    "model.save('my_model.keras')"
   ]
  }
 ],
 "metadata": {
  "kernelspec": {
   "display_name": "Python 3",
   "language": "python",
   "name": "python3"
  },
  "language_info": {
   "codemirror_mode": {
    "name": "ipython",
    "version": 3
   },
   "file_extension": ".py",
   "mimetype": "text/x-python",
   "name": "python",
   "nbconvert_exporter": "python",
   "pygments_lexer": "ipython3",
   "version": "3.12.4"
  }
 },
 "nbformat": 4,
 "nbformat_minor": 2
}
